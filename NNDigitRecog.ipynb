{
 "cells": [
  {
   "cell_type": "code",
   "execution_count": 1,
   "metadata": {},
   "outputs": [
    {
     "name": "stderr",
     "output_type": "stream",
     "text": [
      "Using TensorFlow backend.\n"
     ]
    },
    {
     "name": "stdout",
     "output_type": "stream",
     "text": [
      "(50000, 28, 28) (50000,)\n"
     ]
    },
    {
     "data": {
      "image/png": "[encoded data removed]",
      "text/plain": [
       "<matplotlib.figure.Figure at 0x7fc9984fe080>"
      ]
     },
     "metadata": {},
     "output_type": "display_data"
    }
   ],
   "source": [
    "from preprocessed_mnist import load_dataset\n",
    "X_train, y_train, X_val, y_val, X_test, y_test = load_dataset()\n",
    "print(X_train.shape, y_train.shape)\n",
    "import matplotlib.pyplot as plt\n",
    "get_ipython().magic('matplotlib inline')\n",
    "plt.imshow(X_train[0], cmap=\"Greys\");"
   ]
  },
  {
   "cell_type": "code",
   "execution_count": 2,
   "metadata": {
    "collapsed": true
   },
   "outputs": [],
   "source": [
    "X_train = X_train.reshape(X_train.shape[0],-1)\n",
    "X_val = X_val.reshape(X_val.shape[0],-1)\n",
    "X_test = X_test.reshape(X_test.shape[0],-1)"
   ]
  },
  {
   "cell_type": "code",
   "execution_count": 3,
   "metadata": {
    "collapsed": true
   },
   "outputs": [],
   "source": [
    "import tensorflow as tf\n",
    "import numpy as np\n",
    "n_inputs = 28*28\n",
    "n_hidden1 = 200\n",
    "n_hidden2 = 100\n",
    "\n",
    "n_outputs = 10\n",
    "X=tf.placeholder(tf.float32,shape=(None,n_inputs),name=\"X\")\n",
    "y=tf.placeholder(tf.int64,shape=(None),name=\"y\")"
   ]
  },
  {
   "cell_type": "code",
   "execution_count": 4,
   "metadata": {
    "collapsed": true
   },
   "outputs": [],
   "source": [
    "def dnn_layer(X, n_neurons, name, activation=None):\n",
    "    with tf.name_scope(name):\n",
    "        n_inputs = int(X.get_shape()[1])\n",
    "        stddev = 2 / np.sqrt(n_inputs)\n",
    "        init = tf.truncated_normal((n_inputs, n_neurons), stddev=stddev)\n",
    "        W = tf.Variable(init, name=\"Weights\")\n",
    "        b = tf.Variable(tf.zeros([n_neurons]), name=\"bias\")\n",
    "        Z = tf.matmul(X, W) + b\n",
    "        if activation is not None:\n",
    "            return activation(Z)\n",
    "        else:\n",
    "            return Z"
   ]
  },
  {
   "cell_type": "code",
   "execution_count": 5,
   "metadata": {
    "collapsed": true
   },
   "outputs": [],
   "source": [
    "with tf.name_scope(\"dnn\"):\n",
    "    hidden1 = dnn_layer(X, n_hidden1, name=\"hidden1\",\n",
    "                           activation=tf.nn.relu)\n",
    "    hidden2 = dnn_layer(hidden1, n_hidden2, name=\"hidden2\",\n",
    "                           activation=tf.nn.relu)\n",
    "    logits = dnn_layer(hidden2, n_outputs, name=\"outputs\")"
   ]
  },
  {
   "cell_type": "code",
   "execution_count": 6,
   "metadata": {
    "collapsed": true
   },
   "outputs": [],
   "source": [
    "with tf.name_scope(\"loss\"):\n",
    "    xentropy = tf.nn.sparse_softmax_cross_entropy_with_logits(labels=y,\n",
    "                                                              logits=logits)\n",
    "    loss = tf.reduce_mean(xentropy, name=\"loss\")"
   ]
  },
  {
   "cell_type": "code",
   "execution_count": 7,
   "metadata": {
    "collapsed": true
   },
   "outputs": [],
   "source": [
    "learning_rate = 0.1\n",
    "\n",
    "with tf.name_scope(\"train\"):\n",
    "    optimizer = tf.train.GradientDescentOptimizer(learning_rate)\n",
    "    training_op = optimizer.minimize(loss)"
   ]
  },
  {
   "cell_type": "code",
   "execution_count": 8,
   "metadata": {
    "collapsed": true
   },
   "outputs": [],
   "source": [
    "with tf.name_scope(\"eval\"):\n",
    "    correct = tf.nn.in_top_k(logits, y, 1)\n",
    "    accuracy = tf.reduce_mean(tf.cast(correct, tf.float32))"
   ]
  },
  {
   "cell_type": "code",
   "execution_count": 11,
   "metadata": {
    "collapsed": true
   },
   "outputs": [],
   "source": [
    "init = tf.global_variables_initializer()\n",
    "n_epochs = 200\n",
    "batch_size = 1000"
   ]
  },
  {
   "cell_type": "code",
   "execution_count": 10,
   "metadata": {},
   "outputs": [
    {
     "name": "stdout",
     "output_type": "stream",
     "text": [
      "0 Train accuracy: 0.871 Val accuracy: 0.8848 test accuracy: 0.8776\n",
      "1 Train accuracy: 0.889 Val accuracy: 0.9047 test accuracy: 0.9011\n",
      "2 Train accuracy: 0.901 Val accuracy: 0.9216 test accuracy: 0.9156\n",
      "3 Train accuracy: 0.907 Val accuracy: 0.9275 test accuracy: 0.9213\n",
      "4 Train accuracy: 0.922 Val accuracy: 0.9312 test accuracy: 0.9275\n",
      "5 Train accuracy: 0.931 Val accuracy: 0.9375 test accuracy: 0.9309\n",
      "6 Train accuracy: 0.946 Val accuracy: 0.9419 test accuracy: 0.9372\n",
      "7 Train accuracy: 0.94 Val accuracy: 0.9448 test accuracy: 0.9405\n",
      "8 Train accuracy: 0.955 Val accuracy: 0.9459 test accuracy: 0.9416\n",
      "9 Train accuracy: 0.951 Val accuracy: 0.9497 test accuracy: 0.9457\n",
      "10 Train accuracy: 0.956 Val accuracy: 0.9508 test accuracy: 0.9469\n",
      "11 Train accuracy: 0.957 Val accuracy: 0.9522 test accuracy: 0.9476\n",
      "12 Train accuracy: 0.961 Val accuracy: 0.9528 test accuracy: 0.9485\n",
      "13 Train accuracy: 0.943 Val accuracy: 0.9544 test accuracy: 0.951\n",
      "14 Train accuracy: 0.958 Val accuracy: 0.957 test accuracy: 0.9527\n",
      "15 Train accuracy: 0.98 Val accuracy: 0.9588 test accuracy: 0.9542\n",
      "16 Train accuracy: 0.971 Val accuracy: 0.9579 test accuracy: 0.9548\n",
      "17 Train accuracy: 0.962 Val accuracy: 0.959 test accuracy: 0.9571\n",
      "18 Train accuracy: 0.969 Val accuracy: 0.9597 test accuracy: 0.9575\n",
      "19 Train accuracy: 0.971 Val accuracy: 0.9617 test accuracy: 0.9569\n",
      "20 Train accuracy: 0.976 Val accuracy: 0.9622 test accuracy: 0.9593\n",
      "21 Train accuracy: 0.972 Val accuracy: 0.9628 test accuracy: 0.9603\n",
      "22 Train accuracy: 0.97 Val accuracy: 0.9623 test accuracy: 0.9594\n",
      "23 Train accuracy: 0.972 Val accuracy: 0.964 test accuracy: 0.9609\n",
      "24 Train accuracy: 0.968 Val accuracy: 0.9648 test accuracy: 0.961\n",
      "25 Train accuracy: 0.986 Val accuracy: 0.9644 test accuracy: 0.9624\n",
      "26 Train accuracy: 0.974 Val accuracy: 0.9663 test accuracy: 0.9635\n",
      "27 Train accuracy: 0.974 Val accuracy: 0.9665 test accuracy: 0.9649\n",
      "28 Train accuracy: 0.976 Val accuracy: 0.967 test accuracy: 0.9647\n",
      "29 Train accuracy: 0.979 Val accuracy: 0.9668 test accuracy: 0.9654\n",
      "30 Train accuracy: 0.979 Val accuracy: 0.9662 test accuracy: 0.9662\n",
      "31 Train accuracy: 0.983 Val accuracy: 0.9682 test accuracy: 0.9668\n",
      "32 Train accuracy: 0.968 Val accuracy: 0.9667 test accuracy: 0.9657\n",
      "33 Train accuracy: 0.974 Val accuracy: 0.9693 test accuracy: 0.9676\n",
      "34 Train accuracy: 0.977 Val accuracy: 0.9696 test accuracy: 0.968\n",
      "35 Train accuracy: 0.978 Val accuracy: 0.9696 test accuracy: 0.968\n",
      "36 Train accuracy: 0.983 Val accuracy: 0.97 test accuracy: 0.9687\n",
      "37 Train accuracy: 0.979 Val accuracy: 0.969 test accuracy: 0.9684\n",
      "38 Train accuracy: 0.982 Val accuracy: 0.9689 test accuracy: 0.9695\n",
      "39 Train accuracy: 0.985 Val accuracy: 0.9705 test accuracy: 0.9699\n",
      "40 Train accuracy: 0.986 Val accuracy: 0.9702 test accuracy: 0.9705\n",
      "41 Train accuracy: 0.985 Val accuracy: 0.9703 test accuracy: 0.97\n",
      "42 Train accuracy: 0.988 Val accuracy: 0.9706 test accuracy: 0.9712\n",
      "43 Train accuracy: 0.984 Val accuracy: 0.9708 test accuracy: 0.9705\n",
      "44 Train accuracy: 0.987 Val accuracy: 0.9704 test accuracy: 0.9709\n",
      "45 Train accuracy: 0.985 Val accuracy: 0.9717 test accuracy: 0.972\n",
      "46 Train accuracy: 0.981 Val accuracy: 0.9719 test accuracy: 0.9709\n",
      "47 Train accuracy: 0.988 Val accuracy: 0.9716 test accuracy: 0.9718\n",
      "48 Train accuracy: 0.989 Val accuracy: 0.9714 test accuracy: 0.9716\n",
      "49 Train accuracy: 0.978 Val accuracy: 0.9728 test accuracy: 0.9715\n",
      "50 Train accuracy: 0.986 Val accuracy: 0.9725 test accuracy: 0.9716\n",
      "51 Train accuracy: 0.986 Val accuracy: 0.9726 test accuracy: 0.9725\n",
      "52 Train accuracy: 0.988 Val accuracy: 0.9715 test accuracy: 0.972\n",
      "53 Train accuracy: 0.987 Val accuracy: 0.9729 test accuracy: 0.9729\n",
      "54 Train accuracy: 0.985 Val accuracy: 0.9721 test accuracy: 0.9721\n",
      "55 Train accuracy: 0.992 Val accuracy: 0.9718 test accuracy: 0.9735\n",
      "56 Train accuracy: 0.987 Val accuracy: 0.9718 test accuracy: 0.9729\n",
      "57 Train accuracy: 0.994 Val accuracy: 0.9732 test accuracy: 0.9731\n",
      "58 Train accuracy: 0.988 Val accuracy: 0.9732 test accuracy: 0.9734\n",
      "59 Train accuracy: 0.986 Val accuracy: 0.9732 test accuracy: 0.9732\n",
      "60 Train accuracy: 0.987 Val accuracy: 0.9729 test accuracy: 0.9746\n",
      "61 Train accuracy: 0.992 Val accuracy: 0.9728 test accuracy: 0.9746\n",
      "62 Train accuracy: 0.989 Val accuracy: 0.9731 test accuracy: 0.9742\n",
      "63 Train accuracy: 0.985 Val accuracy: 0.9739 test accuracy: 0.9745\n",
      "64 Train accuracy: 0.985 Val accuracy: 0.9732 test accuracy: 0.9745\n",
      "65 Train accuracy: 0.995 Val accuracy: 0.9736 test accuracy: 0.9751\n",
      "66 Train accuracy: 0.987 Val accuracy: 0.9736 test accuracy: 0.9746\n",
      "67 Train accuracy: 0.994 Val accuracy: 0.9739 test accuracy: 0.9747\n",
      "68 Train accuracy: 0.992 Val accuracy: 0.9741 test accuracy: 0.9755\n",
      "69 Train accuracy: 0.99 Val accuracy: 0.974 test accuracy: 0.9754\n",
      "70 Train accuracy: 0.994 Val accuracy: 0.9742 test accuracy: 0.9757\n",
      "71 Train accuracy: 0.995 Val accuracy: 0.9737 test accuracy: 0.9753\n",
      "72 Train accuracy: 0.994 Val accuracy: 0.9743 test accuracy: 0.9759\n",
      "73 Train accuracy: 0.991 Val accuracy: 0.974 test accuracy: 0.9763\n",
      "74 Train accuracy: 0.992 Val accuracy: 0.9747 test accuracy: 0.9754\n",
      "75 Train accuracy: 0.99 Val accuracy: 0.9749 test accuracy: 0.9748\n",
      "76 Train accuracy: 0.99 Val accuracy: 0.9747 test accuracy: 0.9761\n",
      "77 Train accuracy: 0.99 Val accuracy: 0.9743 test accuracy: 0.976\n",
      "78 Train accuracy: 0.998 Val accuracy: 0.9741 test accuracy: 0.9761\n",
      "79 Train accuracy: 0.992 Val accuracy: 0.9751 test accuracy: 0.9765\n",
      "80 Train accuracy: 0.994 Val accuracy: 0.9753 test accuracy: 0.9767\n",
      "81 Train accuracy: 0.991 Val accuracy: 0.975 test accuracy: 0.9761\n",
      "82 Train accuracy: 0.996 Val accuracy: 0.9749 test accuracy: 0.9762\n",
      "83 Train accuracy: 0.997 Val accuracy: 0.9754 test accuracy: 0.9762\n",
      "84 Train accuracy: 0.992 Val accuracy: 0.9754 test accuracy: 0.9762\n",
      "85 Train accuracy: 0.997 Val accuracy: 0.9751 test accuracy: 0.9761\n",
      "86 Train accuracy: 0.993 Val accuracy: 0.974 test accuracy: 0.9761\n",
      "87 Train accuracy: 0.996 Val accuracy: 0.9753 test accuracy: 0.9758\n",
      "88 Train accuracy: 0.995 Val accuracy: 0.9762 test accuracy: 0.9762\n",
      "89 Train accuracy: 0.997 Val accuracy: 0.975 test accuracy: 0.9768\n",
      "90 Train accuracy: 0.996 Val accuracy: 0.9756 test accuracy: 0.976\n",
      "91 Train accuracy: 0.994 Val accuracy: 0.9754 test accuracy: 0.9768\n",
      "92 Train accuracy: 0.996 Val accuracy: 0.9753 test accuracy: 0.9771\n",
      "93 Train accuracy: 0.999 Val accuracy: 0.9758 test accuracy: 0.9764\n",
      "94 Train accuracy: 0.996 Val accuracy: 0.9754 test accuracy: 0.9764\n",
      "95 Train accuracy: 0.994 Val accuracy: 0.9763 test accuracy: 0.9771\n",
      "96 Train accuracy: 0.999 Val accuracy: 0.9755 test accuracy: 0.9769\n",
      "97 Train accuracy: 0.997 Val accuracy: 0.9745 test accuracy: 0.9771\n",
      "98 Train accuracy: 0.994 Val accuracy: 0.9747 test accuracy: 0.9771\n",
      "99 Train accuracy: 0.994 Val accuracy: 0.9762 test accuracy: 0.9765\n"
     ]
    }
   ],
   "source": [
    "from sklearn.utils import shuffle\n",
    "from matplotlib import pyplot as plt\n",
    "\n",
    "x_iter = []\n",
    "acc_list = []\n",
    "acc_val_list = []\n",
    "acc_test_list = []\n",
    "with tf.Session() as sess:\n",
    "    init.run()\n",
    "    for epoch in range(n_epochs):\n",
    "        X_train, y_train = shuffle(X_train, y_train)\n",
    "        for i in range(0, X_train.shape[0], batch_size):\n",
    "            X_batch = X_train[i:i + batch_size]\n",
    "            y_batch = y_train[i:i + batch_size]\n",
    "            sess.run(training_op, feed_dict={X: X_batch, y: y_batch})\n",
    "        acc_train = accuracy.eval(feed_dict={X: X_batch, y: y_batch})\n",
    "        acc_val = accuracy.eval(feed_dict={X: X_val,\n",
    "                                            y: y_val})\n",
    "        acc_test = accuracy.eval(feed_dict={X: X_test,\n",
    "                                            y: y_test})\n",
    "        print(epoch, \"Train accuracy:\", acc_train, \"Val accuracy:\", acc_val, \"test accuracy:\", acc_test)\n",
    "        x_iter.append(epoch)\n",
    "        acc_list.append(acc_train)\n",
    "        acc_val_list.append(acc_val)\n",
    "        acc_test_list.append(acc_test)\n"
   ]
  },
  {
   "cell_type": "code",
   "execution_count": 12,
   "metadata": {},
   "outputs": [
    {
     "data": {
      "image/png": "[encoded data removed]",
      "text/plain": [
       "<matplotlib.figure.Figure at 0x7fc93d524278>"
      ]
     },
     "metadata": {},
     "output_type": "display_data"
    }
   ],
   "source": [
    "plt.plot(x_iter, acc_list, label=\"acc\")\n",
    "plt.plot(x_iter, acc_val_list, label=\"acc_val\")\n",
    "plt.plot(x_iter, acc_test_list, label=\"acc_test\")\n",
    "plt.legend()\n",
    "plt.show();\n"
   ]
  },
  {
   "cell_type": "code",
   "execution_count": null,
   "metadata": {
    "collapsed": true
   },
   "outputs": [],
   "source": []
  }
 ],
 "metadata": {
  "anaconda-cloud": {},
  "kernelspec": {
   "display_name": "Python 3",
   "language": "python",
   "name": "python3"
  },
  "language_info": {
   "codemirror_mode": {
    "name": "ipython",
    "version": 3
   },
   "file_extension": ".py",
   "mimetype": "text/x-python",
   "name": "python",
   "nbconvert_exporter": "python",
   "pygments_lexer": "ipython3",
   "version": "3.6.8"
  }
 },
 "nbformat": 4,
 "nbformat_minor": 2
}
